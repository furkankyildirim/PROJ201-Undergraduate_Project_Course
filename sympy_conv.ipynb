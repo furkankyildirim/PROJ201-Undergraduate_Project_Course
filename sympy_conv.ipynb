{
 "cells": [
  {
   "cell_type": "markdown",
   "id": "88592340-b9c3-4a33-b04d-c21fd2b1c44e",
   "metadata": {},
   "source": [
    "We would like to use SymPy methods to analyze course prerequisites. For this, every course will be defined as a variable (Symbol) and the prerequisite strings will be converted into SymPy expressions."
   ]
  },
  {
   "cell_type": "code",
   "execution_count": 1,
   "id": "fce345fe-86bd-4526-b4b6-0270b45b2e6d",
   "metadata": {
    "tags": []
   },
   "outputs": [],
   "source": [
    "from sympy import *\n",
    "import json\n",
    "import re\n",
    "\n",
    "def parse_course_name(full_name):\n",
    "    return \"\".join(full_name.split(\" - \")[0].split(\" \"))\n",
    "\n",
    "with open(\"CoursePrerequisites.json\", \"r\") as f:\n",
    "    courses = json.loads(f.read())            "
   ]
  },
  {
   "cell_type": "code",
   "execution_count": 2,
   "id": "e7e7d3dd-18b5-4460-8b4e-df045de47390",
   "metadata": {},
   "outputs": [],
   "source": [
    "courses_dict = {} # course name -> course symbol\n",
    "prereq_strings_dict = {} # course name -> prereq string\n",
    "\n",
    "for (course_name, prerequisites) in courses.items():\n",
    "    name = parse_course_name(course_name)\n",
    "    courses_dict[name] = Symbol(name)\n",
    "    prereq_strings_dict[name] = prerequisites"
   ]
  },
  {
   "cell_type": "code",
   "execution_count": 3,
   "id": "680a6647-d2ad-4c58-a9af-08f48afb1d8b",
   "metadata": {
    "scrolled": true,
    "tags": []
   },
   "outputs": [],
   "source": [
    "# prereqs_dict: course name -> prerequisite expression or none\n",
    "prereqs_dict = {}\n",
    "\n",
    "for (name, prerequisites_string) in prereq_strings_dict.items():\n",
    "    if not prerequisites_string:\n",
    "        continue\n",
    "    else:\n",
    "        try:\n",
    "            prereqs_dict[name] = eval(prerequisites_string, courses_dict)\n",
    "        except NameError:\n",
    "            # there are some required classes that are not in the symbols dictionary yet (were not in the catalog)\n",
    "            # TODO: these should be marked in some way\n",
    "            \n",
    "            # find all course names\n",
    "            for new_course_name in re.findall(\"\\w+\", prerequisites_string):\n",
    "                # create a symbol for the course if doesnt exist\n",
    "                if new_course_name not in courses_dict:\n",
    "                    courses_dict[new_course_name] = Symbol(new_course_name)\n",
    "        prereqs_dict[name] = eval(prerequisites_string, courses_dict)\n"
   ]
  },
  {
   "cell_type": "code",
   "execution_count": 4,
   "id": "43f49861-1ea1-4965-ba76-fdc09b2f2f05",
   "metadata": {},
   "outputs": [
    {
     "data": {
      "text/latex": [
       "$\\displaystyle ACC_{201} \\vee MGMT_{202}$"
      ],
      "text/plain": [
       "ACC201 | MGMT202"
      ]
     },
     "execution_count": 4,
     "metadata": {},
     "output_type": "execute_result"
    }
   ],
   "source": [
    "# check results\n",
    "prereqs_dict[\"ACC301\"]"
   ]
  },
  {
   "cell_type": "code",
   "execution_count": 5,
   "id": "278a30fb-69cb-4e5c-b5bb-12e98c25b494",
   "metadata": {},
   "outputs": [],
   "source": [
    "# returns set of of (course >> prerequisites) for all needed prerequisites for a given \n",
    "# \"set of prerequisite expressions of all courses a given course depends on in any way\"\n",
    "def get_all_prereqs(course, prerequisites, ret=set()):\n",
    "    if not prerequisites:\n",
    "        return ret\n",
    "    ret.add(course >> prerequisites)\n",
    "    \n",
    "    # get sub-prerequisites for every course in the prerequisites\n",
    "    for sub_course_symbol in prerequisites.atoms():\n",
    "        if sub_course_symbol.name in prereqs_dict:\n",
    "            get_all_prereqs(sub_course_symbol, prereqs_dict[sub_course_symbol.name], ret)\n",
    "    return ret"
   ]
  },
  {
   "cell_type": "code",
   "execution_count": 6,
   "id": "3d633cbf-0a14-42f9-83bb-87950b5b48e8",
   "metadata": {},
   "outputs": [
    {
     "data": {
      "text/plain": [
       "{Implies(ACC301, ACC201 | MGMT202), Implies(ACC406, ACC301)}"
      ]
     },
     "execution_count": 6,
     "metadata": {},
     "output_type": "execute_result"
    }
   ],
   "source": [
    "# test recursion with a 2 level deep example\n",
    "get_all_prereqs(courses_dict[\"ACC406\"],prereqs_dict[\"ACC406\"])"
   ]
  },
  {
   "cell_type": "code",
   "execution_count": 7,
   "id": "45073643-3e4a-4bb8-a7cf-c404623e8ec9",
   "metadata": {},
   "outputs": [],
   "source": [
    "# checks if a given expression is satisfiable with given assumptions\n",
    "def satisfiable_with_givens(expr, *givens):\n",
    "    return satisfiable(And(expr, *givens));"
   ]
  }
 ],
 "metadata": {
  "kernelspec": {
   "display_name": "Python 3",
   "language": "python",
   "name": "python3"
  },
  "language_info": {
   "codemirror_mode": {
    "name": "ipython",
    "version": 3
   },
   "file_extension": ".py",
   "mimetype": "text/x-python",
   "name": "python",
   "nbconvert_exporter": "python",
   "pygments_lexer": "ipython3",
   "version": "3.9.5"
  }
 },
 "nbformat": 4,
 "nbformat_minor": 5
}
