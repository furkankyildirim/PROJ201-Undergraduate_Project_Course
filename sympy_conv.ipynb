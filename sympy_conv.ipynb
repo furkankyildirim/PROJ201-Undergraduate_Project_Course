{
 "cells": [
  {
   "cell_type": "markdown",
   "id": "88592340-b9c3-4a33-b04d-c21fd2b1c44e",
   "metadata": {},
   "source": [
    "We would like to use SymPy methods to analyze course prerequisites. For this, every course will be defined as a variable (Symbol) and the prerequisite strings will be converted into SymPy expressions."
   ]
  },
  {
   "cell_type": "code",
   "execution_count": 1,
   "id": "fce345fe-86bd-4526-b4b6-0270b45b2e6d",
   "metadata": {
    "tags": []
   },
   "outputs": [],
   "source": [
    "from sympy import *\n",
    "from sympy.logic.boolalg import BooleanFunction\n",
    "\n",
    "import json\n",
    "import re\n",
    "import time\n",
    "\n",
    "chrono1 = time.perf_counter()\n",
    "\n",
    "def parse_course_name(full_name):\n",
    "    return \"\".join(full_name.split(\" - \")[0].split(\" \"))\n",
    "\n",
    "with open(\"CoursePrerequisites.json\", \"r\") as f:\n",
    "    courses = json.loads(f.read())\n",
    "    \n",
    "# https://stackoverflow.com/a/25244576\n",
    "def strike(text):\n",
    "    result = ''\n",
    "    for c in text:\n",
    "        result = result + c + '\\u0336'\n",
    "    return result"
   ]
  },
  {
   "cell_type": "code",
   "execution_count": 2,
   "id": "e7e7d3dd-18b5-4460-8b4e-df045de47390",
   "metadata": {},
   "outputs": [],
   "source": [
    "fullnames_dict = {} # full course name -> course name\n",
    "courses_dict = {} # course name -> course symbol\n",
    "prereq_strings_dict = {} # course name -> prereq string\n",
    "\n",
    "for (course_name, prerequisites) in courses.items():\n",
    "    name = parse_course_name(course_name)\n",
    "    fullnames_dict[course_name] = name\n",
    "    courses_dict[name] = Symbol(name)\n",
    "    prereq_strings_dict[name] = prerequisites"
   ]
  },
  {
   "cell_type": "code",
   "execution_count": 3,
   "id": "680a6647-d2ad-4c58-a9af-08f48afb1d8b",
   "metadata": {
    "scrolled": true,
    "tags": []
   },
   "outputs": [],
   "source": [
    "# prereqs_dict: course name -> prerequisite expression or none\n",
    "prereqs_dict = {}\n",
    "# \"CS515\" -> 𝐴𝐶𝐶201∨𝑀𝐺𝑀𝑇202\n",
    "\n",
    "for (name, prerequisites_string) in prereq_strings_dict.items():\n",
    "    if not prerequisites_string:\n",
    "        continue\n",
    "    else:\n",
    "        try:\n",
    "            prereqs_dict[name] = eval(prerequisites_string, courses_dict)\n",
    "        except NameError:\n",
    "            # there are some required classes that are not in the symbols dictionary yet (were not in the catalog)\n",
    "            # TODO: these should be marked in some way\n",
    "            \n",
    "            # find all course names\n",
    "            for new_course_name in re.findall(\"\\w+\", prerequisites_string):\n",
    "                # create a symbol for the course if doesnt exist\n",
    "                if new_course_name not in courses_dict:\n",
    "                    courses_dict[new_course_name] = Symbol(new_course_name)\n",
    "        prereqs_dict[name] = eval(prerequisites_string, courses_dict)\n"
   ]
  },
  {
   "cell_type": "code",
   "execution_count": 4,
   "id": "43f49861-1ea1-4965-ba76-fdc09b2f2f05",
   "metadata": {},
   "outputs": [
    {
     "name": "stdout",
     "output_type": "stream",
     "text": [
      "skipping\n"
     ]
    }
   ],
   "source": [
    "%%script echo skipping\n",
    "# check results\n",
    "prereqs_dict[\"ACC301\"]"
   ]
  },
  {
   "cell_type": "code",
   "execution_count": 5,
   "id": "278a30fb-69cb-4e5c-b5bb-12e98c25b494",
   "metadata": {},
   "outputs": [],
   "source": [
    "# returns set of of (course >> prerequisites) for all needed prerequisites for a given course \n",
    "# \"set of prerequisite expressions of all courses a given course depends on in any way\"\n",
    "def get_all_prereqs(prerequisites, course=None, ret=set()):\n",
    "    if not prerequisites:\n",
    "        return ret\n",
    "    \n",
    "    if course:\n",
    "        ret.add(course >> prerequisites)\n",
    "    \n",
    "    # get sub-prerequisites for every course in the prerequisites\n",
    "    for sub_course_symbol in prerequisites.atoms():\n",
    "        if isinstance(sub_course_symbol, Symbol) and sub_course_symbol.name in prereqs_dict:\n",
    "            get_all_prereqs(prereqs_dict[sub_course_symbol.name], sub_course_symbol, ret)\n",
    "    return ret"
   ]
  },
  {
   "cell_type": "code",
   "execution_count": 6,
   "id": "3d633cbf-0a14-42f9-83bb-87950b5b48e8",
   "metadata": {},
   "outputs": [
    {
     "name": "stdout",
     "output_type": "stream",
     "text": [
      "skipping\n"
     ]
    }
   ],
   "source": [
    "%%script echo skipping\n",
    "# test recursion with a 2 level deep example\n",
    "get_all_prereqs(prereqs_dict[\"CS515\"], courses_dict[\"CS515\"])"
   ]
  },
  {
   "cell_type": "code",
   "execution_count": 7,
   "id": "45073643-3e4a-4bb8-a7cf-c404623e8ec9",
   "metadata": {},
   "outputs": [],
   "source": [
    "# checks if a given expression is satisfiable with given assumptions\n",
    "# givens should be a set of SymPy boolean expressions\n",
    "def satisfiable_with_givens(expr, givens):\n",
    "    return satisfiable(And(expr, *givens));"
   ]
  },
  {
   "cell_type": "code",
   "execution_count": 8,
   "id": "1043bbf5-8609-45a5-8122-c83a4da12326",
   "metadata": {},
   "outputs": [],
   "source": [
    "# checks if an arbitrary prerequisite expression (eg. \"course & course & course\") implies another\n",
    "# true if a >> b\n",
    "def prereq_implies_prereq(a, b):\n",
    "    # a does not imply b if it is possible to have a=true b=false\n",
    "    # check if (a&!b) is satisfiable\n",
    "    # if it is satisfiable, implies is false. if it is not satisfiable, implies is true.\n",
    "    res = satisfiable_with_givens(a&~b, get_all_prereqs(a) | get_all_prereqs(b))\n",
    "    \n",
    "    return not bool(res)"
   ]
  },
  {
   "cell_type": "code",
   "execution_count": 9,
   "id": "c63fcba0-2ede-47bd-b0ca-5ab788084ca5",
   "metadata": {},
   "outputs": [],
   "source": [
    "def a_is_redundant(func, a, b):\n",
    "    if func is Or:\n",
    "        return prereq_implies_prereq(a, b)\n",
    "    elif func is And:\n",
    "        return prereq_implies_prereq(b, a)"
   ]
  },
  {
   "cell_type": "code",
   "execution_count": 10,
   "id": "d4c89d70-cddd-4edb-8272-8e72fc095cbc",
   "metadata": {},
   "outputs": [],
   "source": [
    "# returns A simplified prerequisite expression\n",
    "def simplify_prereqs(course_prerequisites, verbose=True):\n",
    "    if not isinstance(course_prerequisites, BooleanFunction):\n",
    "        return course_prerequisites;\n",
    "\n",
    "    parts = course_prerequisites.args\n",
    "\n",
    "    # simplify all components of this prereq string before simplifying the whole thing\n",
    "    parts = [simplify_prereqs(component, verbose) for component in parts]\n",
    "    if verbose:\n",
    "        print(\"analysing:\", course_prerequisites.args, [(p, type(p)) for p in parts])\n",
    "    \n",
    "    \n",
    "    for i in range(len(parts)):\n",
    "        A = parts[i]\n",
    "        B = course_prerequisites.func(*parts[0:i], *parts[i+1:len(parts)])\n",
    "        if verbose:\n",
    "            print(course_prerequisites.func, A, \",\", B)\n",
    "        \n",
    "        \n",
    "        # check if A is needed for this prerequisite\n",
    "        p = a_is_redundant(course_prerequisites.func, A, B)\n",
    "        \n",
    "        # if A is redundant\n",
    "        if p: \n",
    "            if verbose:\n",
    "                print(strike(\"(\"+str(A)+\")\"), sep=\"\", end=\" \")\n",
    "            # remove A from the prereq string by making it the identity for this operation\n",
    "            parts[i] = course_prerequisites.func.identity\n",
    "    return course_prerequisites.func(*parts)"
   ]
  },
  {
   "cell_type": "code",
   "execution_count": 11,
   "id": "c29c2b3f-6e44-474b-aa8c-fbc3f1008357",
   "metadata": {
    "scrolled": true,
    "tags": []
   },
   "outputs": [
    {
     "name": "stdout",
     "output_type": "stream",
     "text": [
      "skipping\n"
     ]
    }
   ],
   "source": [
    "%%script echo skipping\n",
    "def check(course):\n",
    "    print(\"checking\", course+\":\\ncurrent prereq is:\")\n",
    "    print(prereqs_dict[course])\n",
    "    print(\"processed prereq is:\")\n",
    "    print(\"\\n\"+str(simplify_prereqs(prereqs_dict[course])))\n",
    "    print(\"\\n\")\n",
    "\n",
    "check(\"POLS302\")\n",
    "check(\"POLS409\")\n",
    "check(\"POLS410\")"
   ]
  },
  {
   "cell_type": "code",
   "execution_count": 12,
   "id": "88d60f35-ae61-4227-a6cd-4d9c805e6968",
   "metadata": {},
   "outputs": [
    {
     "name": "stdout",
     "output_type": "stream",
     "text": [
      "Analysis complete, 659 prerequisite expressions in 8.136691300000166 seconds.\n",
      "Average of 0.012347027769347749 seconds per expression.\n",
      "Totals:\n",
      "\tcourses: 2709\n",
      "\tchanges: 155\n",
      "\ttime: 8.622324200001458 seconds\n"
     ]
    }
   ],
   "source": [
    "# use our methods to analyze all courses that have prerequisites, then save the simplified prerequisites\n",
    "changes = {}\n",
    "new_prereqs_dict = {}\n",
    "c = 0\n",
    "chrono2 = time.perf_counter()\n",
    "\n",
    "for (full_name, name) in fullnames_dict.items():\n",
    "    if name in prereqs_dict:\n",
    "        prereqs = prereqs_dict[name]\n",
    "        new_prereqs = simplify_prereqs(prereqs, False)\n",
    "        new_prereqs_dict[full_name] = new_prereqs\n",
    "        if not prereqs.equals(new_prereqs):\n",
    "            changes[full_name] = {\"old\": str(prereqs), \"new\": str(new_prereqs)}\n",
    "        c+=1\n",
    "        \n",
    "    else:\n",
    "        new_prereqs_dict[full_name] = \"\"\n",
    "\n",
    "end = time.perf_counter()\n",
    "chrono1 = end - chrono1\n",
    "chrono2 = end - chrono2\n",
    "print(\"Analysis complete,\", c, \"prerequisite expressions in\", chrono2, \"seconds.\")\n",
    "print(\"Average of\", chrono2/c, \"seconds per expression.\")\n",
    "print(\"Totals:\")\n",
    "print(\"\\tcourses:\", len(new_prereqs_dict))\n",
    "print(\"\\tchanges:\", len(changes))\n",
    "print(\"\\ttime:\", chrono1, \"seconds\")\n",
    "\n",
    "\n",
    "# save outputs\n",
    "with open('updatedValues.json', 'w') as fp:\n",
    "    json.dump({n: str(p) for (n, p) in new_prereqs_dict.items()}, fp)\n",
    "\n",
    "with open('changelist.json', 'w') as fp:\n",
    "    json.dump(changes, fp)"
   ]
  }
 ],
 "metadata": {
  "kernelspec": {
   "display_name": "Python 3",
   "language": "python",
   "name": "python3"
  },
  "language_info": {
   "codemirror_mode": {
    "name": "ipython",
    "version": 3
   },
   "file_extension": ".py",
   "mimetype": "text/x-python",
   "name": "python",
   "nbconvert_exporter": "python",
   "pygments_lexer": "ipython3",
   "version": "3.9.5"
  },
  "toc-showcode": true,
  "toc-showtags": false
 },
 "nbformat": 4,
 "nbformat_minor": 5
}
